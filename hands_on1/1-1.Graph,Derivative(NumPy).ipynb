{
 "cells": [
  {
   "cell_type": "markdown",
   "metadata": {},
   "source": [
    "# 関数のグラフ"
   ]
  },
  {
   "cell_type": "code",
   "execution_count": null,
   "metadata": {},
   "outputs": [],
   "source": [
    "import numpy as np\n",
    "\n",
    "import matplotlib.pyplot as plt\n",
    "%matplotlib inline"
   ]
  },
  {
   "cell_type": "markdown",
   "metadata": {},
   "source": [
    "## SymPyの基本文法"
   ]
  },
  {
   "cell_type": "markdown",
   "metadata": {},
   "source": [
    "## 代表的な関数のグラフ（二次関数，三角関数，指数関数など）の描画"
   ]
  },
  {
   "cell_type": "code",
   "execution_count": null,
   "metadata": {},
   "outputs": [],
   "source": [
    "# Matplotlibで関数の図示（二次関数）\n",
    "x = np.arange(-10, 10, 0.1)\n",
    "x"
   ]
  },
  {
   "cell_type": "code",
   "execution_count": null,
   "metadata": {},
   "outputs": [],
   "source": [
    "y = x**2-12*x+8\n",
    "y"
   ]
  },
  {
   "cell_type": "code",
   "execution_count": null,
   "metadata": {},
   "outputs": [],
   "source": [
    "plt.plot(x, y)\n",
    "plt.show()"
   ]
  },
  {
   "cell_type": "code",
   "execution_count": null,
   "metadata": {},
   "outputs": [],
   "source": [
    "#三角関数\n",
    "x = np.arange(-2*np.pi, 2*np.pi, 0.01)\n",
    "y = np.sin(x)\n",
    "\n",
    "plt.plot(x, y)\n",
    "plt.show()"
   ]
  },
  {
   "cell_type": "code",
   "execution_count": null,
   "metadata": {},
   "outputs": [],
   "source": [
    "#横から見ると...\n",
    "x = np.arange(0, 2*np.pi, 0.01)\n",
    "y1 = np.cos(x)\n",
    "y2 = np.sin(x)\n",
    "\n",
    "plt.plot(x, y1)\n",
    "plt.plot(x, y2)\n",
    "plt.show()"
   ]
  },
  {
   "cell_type": "code",
   "execution_count": null,
   "metadata": {},
   "outputs": [],
   "source": [
    "# 指数関数\n",
    "x = np.arange(-5, 5, 0.1)\n",
    "y = np.exp(x)\n",
    "\n",
    "plt.plot(x, y)\n",
    "plt.show()"
   ]
  },
  {
   "cell_type": "markdown",
   "metadata": {},
   "source": [
    "# 微分"
   ]
  },
  {
   "cell_type": "markdown",
   "metadata": {},
   "source": [
    "## 微分を定義から丁寧に"
   ]
  },
  {
   "cell_type": "markdown",
   "metadata": {},
   "source": [
    "## 数値微分の実装"
   ]
  },
  {
   "cell_type": "code",
   "execution_count": null,
   "metadata": {},
   "outputs": [],
   "source": [
    "def Average_change_rate(f,a,b):\n",
    "    delta_x = b - a\n",
    "    delta_y = f(b)-f(a)\n",
    "    return delta_y / delta_x\n",
    "\n",
    "\n",
    "def funcion(x):\n",
    "    return x ** 2\n",
    "\n",
    "\n",
    "a= 1\n",
    "b = 4\n",
    "\n",
    "print(\"平均変化率：\", Average_change_rate(funcion, a, b))\n",
    "\n",
    "x = np.arange(-3.0, 5.0, 0.1)\n",
    "\n",
    "y = funcion(x)\n",
    "d = Average_change_rate(funcion, a, b)\n",
    "y2 = d * x + funcion(a) - d*a\n",
    "\n",
    "plt.plot(x, y)\n",
    "plt.plot(x, y2)\n",
    "plt.show()"
   ]
  },
  {
   "cell_type": "code",
   "execution_count": null,
   "metadata": {},
   "outputs": [],
   "source": [
    "# 2点近似\n",
    "def derivative(f,x,h):\n",
    "    return (f(x+h) - f(x)) / h\n",
    "\n",
    "\n",
    "def funcion(x):\n",
    "    return x ** 2\n",
    "\n",
    "\n",
    "a = 1\n",
    "h = np.array([1, 1e-1, 1e-2, 1e-3, 1e-4])\n",
    "\n",
    "print(derivative(funcion, a, h))"
   ]
  },
  {
   "cell_type": "code",
   "execution_count": null,
   "metadata": {},
   "outputs": [],
   "source": [
    "x = np.arange(-3.0, 5.0, 0.1)\n",
    "h = 1e-4\n",
    "a = 1\n",
    "\n",
    "y = funcion(x)\n",
    "d = derivative(funcion, a, h)\n",
    "y2 = funcion(a) + d * (x - a)\n",
    "\n",
    "print(\"微分係数：\", d)\n",
    "\n",
    "plt.plot(x, y)\n",
    "plt.plot(x, y2)\n",
    "plt.show()"
   ]
  },
  {
   "cell_type": "code",
   "execution_count": null,
   "metadata": {},
   "outputs": [],
   "source": [
    "# 中心差分\n",
    "def derivative2(f, x, h):\n",
    "    return (f(x+h) - f(x-h)) / (2*h)\n",
    "\n",
    "\n",
    "def funcion(x):\n",
    "    return x ** 2\n",
    "\n",
    "\n",
    "x = np.arange(-3.0, 5.0, 0.1)\n",
    "h = 1e-4\n",
    "a = 1\n",
    "\n",
    "y = funcion(x)\n",
    "d = derivative2(funcion, a, h)\n",
    "y2 = funcion(a) + d * (x - a)\n",
    "\n",
    "print(\"微分係数：\", d)\n",
    "\n",
    "plt.plot(x, y)\n",
    "plt.plot(x, y2)\n",
    "plt.show()"
   ]
  },
  {
   "cell_type": "markdown",
   "metadata": {},
   "source": [
    "## SymPyによる微分"
   ]
  },
  {
   "cell_type": "markdown",
   "metadata": {},
   "source": [
    "## 最小値問題（発展）"
   ]
  },
  {
   "cell_type": "markdown",
   "metadata": {},
   "source": [
    "参考：https://python.atelierkobato.com/steep/"
   ]
  },
  {
   "cell_type": "code",
   "execution_count": null,
   "metadata": {},
   "outputs": [],
   "source": [
    "import numpy as np\n",
    "import matplotlib.pyplot as plt"
   ]
  },
  {
   "cell_type": "markdown",
   "metadata": {},
   "source": [
    "式：\n",
    "$$\n",
    "x_{t+1} = x_{t} - \\alpha f'(x_{t})\n",
    "$$"
   ]
  },
  {
   "cell_type": "markdown",
   "metadata": {},
   "source": [
    "例1：\n",
    "$$\n",
    "y = x^2\n",
    "$$"
   ]
  },
  {
   "cell_type": "code",
   "execution_count": null,
   "metadata": {},
   "outputs": [],
   "source": [
    "# 関数\n",
    "def function(x):\n",
    "    return x**2\n",
    "\n",
    "\n",
    "# 導関数\n",
    "def derivative(f, x, h):\n",
    "    return (f(x+h) - f(x)) / h\n",
    "\n",
    "\n",
    "h = 1e-4"
   ]
  },
  {
   "cell_type": "code",
   "execution_count": null,
   "metadata": {},
   "outputs": [],
   "source": [
    "# 関数グラフ\n",
    "X = np.arange(-4, 4, 0.1)\n",
    "\n",
    "Y = function(X)\n",
    "\n",
    "plt.plot(X, Y, zorder = 1)"
   ]
  },
  {
   "cell_type": "code",
   "execution_count": null,
   "metadata": {},
   "outputs": [],
   "source": [
    "# 最急降下法による最小値の探索\n",
    "\n",
    "# xの初期値\n",
    "x = 2\n",
    "\n",
    "# 学習率α\n",
    "alpha = 0.01\n",
    "\n",
    "# 収束判定条件\n",
    "eps = 0.001\n",
    "\n",
    "# 繰返しの最大数\n",
    "k_max = 1000\n",
    "\n",
    "for k in range(1, k_max):\n",
    "    x -= alpha * derivative(function, x, h)\n",
    "\n",
    "    # (x, f(x))を散布図にプロット\n",
    "    plt.scatter(x, function(x), s=5, color=\"red\", zorder=2)\n",
    "\n",
    "    # 勾配の絶対値がeps以下になったらループ終了\n",
    "    if abs(derivative(function, x, h)) < eps:\n",
    "        break\n",
    "        \n",
    "print(x)\n",
    "\n",
    "# 関数グラフと合わせる\n",
    "X = np.arange(-4, 4, 0.1)\n",
    "\n",
    "# グラフに描く関数\n",
    "Y = function(X)\n",
    "\n",
    "plt.plot(X, Y, zorder = 1)"
   ]
  },
  {
   "cell_type": "markdown",
   "metadata": {},
   "source": [
    "例2：\n",
    "$$\n",
    "y = x^5−7x^4+17x^3−17x^2+6x\n",
    "$$"
   ]
  },
  {
   "cell_type": "code",
   "execution_count": null,
   "metadata": {},
   "outputs": [],
   "source": [
    "# 関数\n",
    "def function(x):\n",
    "    return x**5 - 7*x**4 + 17*x**3 - 17*x**2 + 6*x\n",
    "\n",
    "\n",
    "# 導関数\n",
    "def derivative(f, x, h):\n",
    "    return (f(x+h) - f(x)) / h\n",
    "\n",
    "\n",
    "h = 1e-4"
   ]
  },
  {
   "cell_type": "code",
   "execution_count": null,
   "metadata": {},
   "outputs": [],
   "source": [
    "# 関数グラフ\n",
    "X = np.arange(0, 3, 0.01)\n",
    "\n",
    "Y = function(X)\n",
    "\n",
    "plt.plot(X, Y, zorder = 1)"
   ]
  },
  {
   "cell_type": "code",
   "execution_count": null,
   "metadata": {},
   "outputs": [],
   "source": [
    "# 最急降下法による最小値の探索\n",
    "\n",
    "# xの初期値（2, 3, 1.5, 0.5, 0, ...）\n",
    "x = 3.0\n",
    "\n",
    "# 学習率α\n",
    "alpha = 0.01\n",
    "\n",
    "# 収束判定条件\n",
    "eps = 0.001\n",
    "\n",
    "# 繰返しの最大数\n",
    "k_max = 1000\n",
    "\n",
    "for k in range(1, k_max):\n",
    "    x -= alpha * derivative(function, x, h)\n",
    "\n",
    "    # (x, f(x))を散布図にプロット\n",
    "    plt.scatter(x, function(x), s=5, color=\"red\", zorder=2)\n",
    "\n",
    "    # 勾配の絶対値がeps以下になったらループ終了\n",
    "    if abs(derivative(function, x, h)) < eps:\n",
    "        break\n",
    "        \n",
    "print(x)\n",
    "\n",
    "# 関数グラフと合わせる\n",
    "X = np.arange(0, 3, 0.01)\n",
    "\n",
    "Y = function(X)\n",
    "\n",
    "plt.plot(X, Y, zorder = 1)"
   ]
  },
  {
   "cell_type": "markdown",
   "metadata": {},
   "source": [
    "# 演習問題"
   ]
  },
  {
   "cell_type": "markdown",
   "metadata": {},
   "source": [
    "## 関数のグラフ"
   ]
  },
  {
   "cell_type": "markdown",
   "metadata": {},
   "source": [
    "次の関数を図示せよ。"
   ]
  },
  {
   "cell_type": "markdown",
   "metadata": {},
   "source": [
    "(1)\n",
    "$$\n",
    "y = x^2 + 4x + 1\n",
    "$$"
   ]
  },
  {
   "cell_type": "markdown",
   "metadata": {},
   "source": [
    "(2)\n",
    "$$\n",
    "y = x^3 + 3x^2 - 9x + 4\n",
    "$$"
   ]
  },
  {
   "cell_type": "markdown",
   "metadata": {},
   "source": [
    "(3)\n",
    "$$\n",
    "y = x^4 - 2x^3 +1\n",
    "$$"
   ]
  },
  {
   "cell_type": "markdown",
   "metadata": {},
   "source": [
    "(4)\n",
    "$$\n",
    "y = \\sin 3x\n",
    "$$"
   ]
  },
  {
   "cell_type": "markdown",
   "metadata": {},
   "source": [
    "(5)\n",
    "$$\n",
    "y = 4\\cos^2 x\n",
    "$$"
   ]
  },
  {
   "cell_type": "markdown",
   "metadata": {},
   "source": [
    "(6)\n",
    "$$\n",
    "y = e^{-x}\n",
    "$$"
   ]
  },
  {
   "cell_type": "markdown",
   "metadata": {},
   "source": [
    "(7)\n",
    "$$\n",
    "y = 2^x\n",
    "$$"
   ]
  },
  {
   "cell_type": "markdown",
   "metadata": {},
   "source": [
    "(8)\n",
    "$$\n",
    "y = \\log_e x\n",
    "$$"
   ]
  },
  {
   "cell_type": "markdown",
   "metadata": {},
   "source": [
    "(9)\n",
    "$$\n",
    "y = \\log_3 x\n",
    "$$"
   ]
  },
  {
   "cell_type": "markdown",
   "metadata": {},
   "source": [
    "## 微分"
   ]
  },
  {
   "cell_type": "markdown",
   "metadata": {},
   "source": [
    "上の関数について，それぞれ1階微分を求めよ。また，極値を求めよ。\n",
    "\n",
    "（発展：2階微分を求め，変曲点を求めよ。）"
   ]
  },
  {
   "cell_type": "markdown",
   "metadata": {},
   "source": [
    "（発展2：数値微分について，より精度の高い手法について調べ，そのコードを書け。）"
   ]
  },
  {
   "cell_type": "code",
   "execution_count": null,
   "metadata": {},
   "outputs": [],
   "source": []
  }
 ],
 "metadata": {
  "kernelspec": {
   "display_name": "Python 3",
   "language": "python",
   "name": "python3"
  },
  "language_info": {
   "codemirror_mode": {
    "name": "ipython",
    "version": 3
   },
   "file_extension": ".py",
   "mimetype": "text/x-python",
   "name": "python",
   "nbconvert_exporter": "python",
   "pygments_lexer": "ipython3",
   "version": "3.6.6"
  },
  "toc": {
   "base_numbering": 1,
   "nav_menu": {},
   "number_sections": true,
   "sideBar": true,
   "skip_h1_title": false,
   "title_cell": "Table of Contents",
   "title_sidebar": "Contents",
   "toc_cell": false,
   "toc_position": {},
   "toc_section_display": true,
   "toc_window_display": false
  }
 },
 "nbformat": 4,
 "nbformat_minor": 2
}
