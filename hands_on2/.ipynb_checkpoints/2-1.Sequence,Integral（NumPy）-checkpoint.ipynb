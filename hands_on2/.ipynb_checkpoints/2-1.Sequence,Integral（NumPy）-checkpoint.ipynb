{
 "cells": [
  {
   "cell_type": "code",
   "execution_count": 2,
   "metadata": {},
   "outputs": [],
   "source": [
    "import numpy as np\n",
    "import matplotlib.pyplot as plt\n",
    "%matplotlib inline"
   ]
  },
  {
   "cell_type": "markdown",
   "metadata": {},
   "source": [
    "# 数列"
   ]
  },
  {
   "cell_type": "markdown",
   "metadata": {},
   "source": [
    "## NumPyによる数列の実装"
   ]
  },
  {
   "cell_type": "code",
   "execution_count": 23,
   "metadata": {},
   "outputs": [
    {
     "name": "stdout",
     "output_type": "stream",
     "text": [
      "1\n",
      "3\n",
      "5\n",
      "7\n",
      "9\n"
     ]
    }
   ],
   "source": [
    "#単純な等差数列の記法，初項末項等差\n",
    "A = range(1, 10, 2)\n",
    "\n",
    "for N in A:\n",
    "    print(N)"
   ]
  },
  {
   "cell_type": "code",
   "execution_count": 4,
   "metadata": {},
   "outputs": [
    {
     "data": {
      "text/plain": [
       "array([1, 3, 5, 7, 9])"
      ]
     },
     "execution_count": 4,
     "metadata": {},
     "output_type": "execute_result"
    }
   ],
   "source": [
    "# NumPy等差数列の記法1，start = 初項, stop = 末項（注意：その数を含まない）, step = 等差\n",
    "a1 = np.arange(start=1, stop=11, step=2)\n",
    "a1"
   ]
  },
  {
   "cell_type": "code",
   "execution_count": 5,
   "metadata": {},
   "outputs": [
    {
     "data": {
      "text/plain": [
       "array([1., 3., 5., 7., 9.])"
      ]
     },
     "execution_count": 5,
     "metadata": {},
     "output_type": "execute_result"
    }
   ],
   "source": [
    "# NumPyの記法2，start=初項, stop=末項, num=項数\n",
    "a2 = np.linspace(start=1, stop=9, num=5)\n",
    "a2"
   ]
  },
  {
   "cell_type": "code",
   "execution_count": 5,
   "metadata": {},
   "outputs": [
    {
     "data": {
      "text/plain": [
       "array([2., 2., 2., 2., 2.])"
      ]
     },
     "execution_count": 5,
     "metadata": {},
     "output_type": "execute_result"
    }
   ],
   "source": [
    "# 等比数列，公比の設定\n",
    "A = np.ones(5) * 2\n",
    "A"
   ]
  },
  {
   "cell_type": "code",
   "execution_count": 6,
   "metadata": {},
   "outputs": [
    {
     "data": {
      "text/plain": [
       "array([ 1.,  2.,  4.,  8., 16.])"
      ]
     },
     "execution_count": 6,
     "metadata": {},
     "output_type": "execute_result"
    }
   ],
   "source": [
    "# 2**1,2**2,...\n",
    "A ** np.arange(5)"
   ]
  },
  {
   "cell_type": "code",
   "execution_count": 36,
   "metadata": {},
   "outputs": [
    {
     "data": {
      "text/plain": [
       "array([ 2.,  4.,  8., 16.])"
      ]
     },
     "execution_count": 36,
     "metadata": {},
     "output_type": "execute_result"
    }
   ],
   "source": [
    "# NumPyの記法，base^開始base^終了項数base\n",
    "np.logspace(1, 4, 4, base=2)"
   ]
  },
  {
   "cell_type": "code",
   "execution_count": 39,
   "metadata": {
    "scrolled": true
   },
   "outputs": [
    {
     "data": {
      "text/plain": [
       "array([ 1.,  2.,  4.,  8., 16.])"
      ]
     },
     "execution_count": 39,
     "metadata": {},
     "output_type": "execute_result"
    }
   ],
   "source": [
    "# NumPyの記法，初項末項項数\n",
    "np.geomspace(1, 16, 5)"
   ]
  },
  {
   "cell_type": "code",
   "execution_count": 47,
   "metadata": {},
   "outputs": [
    {
     "data": {
      "text/plain": [
       "[<matplotlib.lines.Line2D at 0x10c2000b8>]"
      ]
     },
     "execution_count": 47,
     "metadata": {},
     "output_type": "execute_result"
    },
    {
     "data": {
      "image/png": "[encoded data removed]",
      "text/plain": [
       "<Figure size 432x288 with 1 Axes>"
      ]
     },
     "metadata": {
      "needs_background": "light"
     },
     "output_type": "display_data"
    }
   ],
   "source": [
    "x = np.arange(1, 5, 0.1)\n",
    "y = x**2\n",
    "\n",
    "plt.plot(x,y)"
   ]
  },
  {
   "cell_type": "markdown",
   "metadata": {},
   "source": [
    "## SymPyによる数列の実装"
   ]
  },
  {
   "cell_type": "markdown",
   "metadata": {},
   "source": [
    "## 数列の和"
   ]
  },
  {
   "cell_type": "code",
   "execution_count": 9,
   "metadata": {},
   "outputs": [
    {
     "data": {
      "text/plain": [
       "25"
      ]
     },
     "execution_count": 9,
     "metadata": {},
     "output_type": "execute_result"
    }
   ],
   "source": [
    "np.sum(a1)"
   ]
  },
  {
   "cell_type": "markdown",
   "metadata": {},
   "source": [
    "## 漸化式の記述"
   ]
  },
  {
   "cell_type": "code",
   "execution_count": 10,
   "metadata": {},
   "outputs": [
    {
     "name": "stdout",
     "output_type": "stream",
     "text": [
      "[1, 3, 5, 7, 9]\n"
     ]
    }
   ],
   "source": [
    "# 等差数列の漸化式（再帰）\n",
    "def Seq1(N):\n",
    "    if N == 0:  # 初項\n",
    "        return 1\n",
    "    else:\n",
    "        return Seq1(N-1) + 2\n",
    "\n",
    "\n",
    "print([Seq1(N) for N in range(0, 5)])"
   ]
  },
  {
   "cell_type": "code",
   "execution_count": 48,
   "metadata": {},
   "outputs": [
    {
     "data": {
      "text/plain": [
       "array([1., 3., 5., 7., 9.])"
      ]
     },
     "execution_count": 48,
     "metadata": {},
     "output_type": "execute_result"
    }
   ],
   "source": [
    "# NumPyで等差数列の漸化式（再帰）\n",
    "Seq2 = np.zeros(5)\n",
    "Seq2[0] = 1  # 初項\n",
    "\n",
    "for N in range(1, 5):\n",
    "    Seq2[N] = Seq2[N-1] + 2  # 式を書く\n",
    "\n",
    "Seq2"
   ]
  },
  {
   "cell_type": "code",
   "execution_count": 49,
   "metadata": {},
   "outputs": [
    {
     "data": {
      "text/plain": [
       "array([ 1.,  2.,  4.,  8., 16.])"
      ]
     },
     "execution_count": 49,
     "metadata": {},
     "output_type": "execute_result"
    }
   ],
   "source": [
    "# NumPyで等比数列の漸化式（再帰）\n",
    "Seq3 = np.zeros(5)\n",
    "Seq3[0] = 1  # 初項\n",
    "\n",
    "for N in range(1, 5):\n",
    "    Seq3[N] = Seq3[N-1] * 2  # 式を書く\n",
    "\n",
    "Seq3"
   ]
  },
  {
   "cell_type": "markdown",
   "metadata": {},
   "source": [
    "## SymPyで漸化式を解く"
   ]
  },
  {
   "cell_type": "markdown",
   "metadata": {},
   "source": [
    "例題\n",
    "$$\n",
    "a_1 = 1 , \\ a_{n+1} = 3a_n + 2\n",
    "$$"
   ]
  },
  {
   "cell_type": "markdown",
   "metadata": {},
   "source": [
    "# 積分"
   ]
  },
  {
   "cell_type": "markdown",
   "metadata": {},
   "source": [
    "## 定積分とは数列の「極限（ある意味で）」"
   ]
  },
  {
   "cell_type": "code",
   "execution_count": 58,
   "metadata": {},
   "outputs": [
    {
     "data": {
      "text/plain": [
       "72.00180001000001"
      ]
     },
     "execution_count": 58,
     "metadata": {},
     "output_type": "execute_result"
    }
   ],
   "source": [
    "# リーマン積分\n",
    "import numpy as np\n",
    "import matplotlib.pyplot as plt\n",
    "\n",
    "def f(x):\n",
    "    return x**2\n",
    "\n",
    "\n",
    "def Riemann(d, a, b):\n",
    "    x = np.arange(a, b + d, d)\n",
    "    y = f(x)\n",
    "    v = d*y\n",
    "    rS = np.sum(v)\n",
    "    return rS\n",
    "\n",
    "\n",
    "d = 1e-4\n",
    "a = 0.0\n",
    "b = 6.0\n",
    "\n",
    "rS = Riemann(d, a, b)\n",
    "rS"
   ]
  },
  {
   "cell_type": "code",
   "execution_count": 59,
   "metadata": {},
   "outputs": [
    {
     "name": "stdout",
     "output_type": "stream",
     "text": [
      "rS= 72.00180001000001 誤差= 0.0018000100000108432\n"
     ]
    }
   ],
   "source": [
    "#誤差\n",
    "print(\"rS=\", rS, \"誤差=\", rS - 72)"
   ]
  },
  {
   "cell_type": "markdown",
   "metadata": {},
   "source": [
    "## 数値積分（台形法）の実装"
   ]
  },
  {
   "cell_type": "code",
   "execution_count": 61,
   "metadata": {},
   "outputs": [
    {
     "name": "stdout",
     "output_type": "stream",
     "text": [
      "tS= 72.00000001000001 誤差= 1.0000007932831068e-08\n"
     ]
    }
   ],
   "source": [
    "# 台形法\n",
    "def f(x):\n",
    "    return x**2\n",
    "\n",
    "\n",
    "def trapezoid(d, a, b):\n",
    "    x = np.arange(a, b + d, d)\n",
    "    y = f(x)\n",
    "    n = int((b-a)/d)\n",
    "    t = np.zeros(n)\n",
    "\n",
    "    for i in range(0, n):\n",
    "        t[i] = (y[i]+y[i+1])*d/2\n",
    "\n",
    "    tS = np.sum(t)\n",
    "\n",
    "    return tS\n",
    "\n",
    "\n",
    "d = 1e-4\n",
    "a = 0.0\n",
    "b = 6.0\n",
    "tS = trapezoid(d, a, b)\n",
    "print(\"tS=\", tS, \"誤差=\", tS - 72)"
   ]
  },
  {
   "cell_type": "code",
   "execution_count": 62,
   "metadata": {},
   "outputs": [
    {
     "data": {
      "text/plain": [
       "[<matplotlib.lines.Line2D at 0x1134d8c88>]"
      ]
     },
     "execution_count": 62,
     "metadata": {},
     "output_type": "execute_result"
    },
    {
     "data": {
      "image/png": "[encoded data removed]",
      "text/plain": [
       "<Figure size 432x288 with 1 Axes>"
      ]
     },
     "metadata": {
      "needs_background": "light"
     },
     "output_type": "display_data"
    }
   ],
   "source": [
    "dlist = np.array([1, 1e-1, 1e-2, 1e-3, 1e-4, 1e-5, 1e-6])\n",
    "\n",
    "rS_list = np.zeros(7)\n",
    "tS_list = np.zeros(7)\n",
    "\n",
    "for i in range(0, 7):\n",
    "    rS_list[i] = Riemann(dlist[i], a, b)\n",
    "    tS_list[i] = trapezoid(dlist[i], a, b)\n",
    "\n",
    "err_rS = rS_list - 72\n",
    "err_tS = tS_list - 72\n",
    "\n",
    "plt.ylim(0, 0.1)\n",
    "plt.plot(err_rS, color = \"r\")\n",
    "plt.plot(err_tS, color = \"b\")"
   ]
  },
  {
   "cell_type": "markdown",
   "metadata": {},
   "source": [
    "## SciPyによる積分"
   ]
  },
  {
   "cell_type": "code",
   "execution_count": 63,
   "metadata": {},
   "outputs": [
    {
     "data": {
      "text/plain": [
       "(72.00000000000001, 7.993605777301129e-13)"
      ]
     },
     "execution_count": 63,
     "metadata": {},
     "output_type": "execute_result"
    }
   ],
   "source": [
    "from scipy import integrate\n",
    "\n",
    "\n",
    "def f(x):\n",
    "    return x**2\n",
    "\n",
    "\n",
    "integrate.quad(f, 0, 6)"
   ]
  },
  {
   "cell_type": "code",
   "execution_count": 64,
   "metadata": {},
   "outputs": [
    {
     "name": "stdout",
     "output_type": "stream",
     "text": [
      "リーマン: 0.33383350000000034\n",
      "台形 0.33333349999999984\n",
      "scipy: (0.33333333333333337, 3.700743415417189e-15)\n"
     ]
    }
   ],
   "source": [
    "from scipy import integrate\n",
    "\n",
    "\n",
    "def f(x):\n",
    "    return x**2\n",
    "\n",
    "# x**2\n",
    "# np.sin(x)\n",
    "# np.exp(x)\n",
    "# np.log(x) / x (1,)\n",
    "# np.exp(-x**2/2)\n",
    "# np.exp(-x**2/2)/np.sqrt(2*np.pi)\n",
    "# 4/(1+x**2) (0,1)\n",
    "\n",
    "\n",
    "d = 1e-3\n",
    "a = 0.0\n",
    "b = 1.0\n",
    "\n",
    "# リーマン積分\n",
    "\n",
    "\n",
    "def Riemann(d, a, b):\n",
    "    x = np.arange(a, b + d, d)\n",
    "    y = f(x)\n",
    "    v = d*y\n",
    "    rS = sum(v)\n",
    "    return rS\n",
    "\n",
    "\n",
    "rS = Riemann(d, a, b)\n",
    "\n",
    "# 台形法\n",
    "\n",
    "\n",
    "def trapezoid(d, a, b):\n",
    "    x = np.arange(a, b + d, d)\n",
    "    y = f(x)\n",
    "    n = int((b-a)/d)\n",
    "    t = np.zeros(n)\n",
    "\n",
    "    for i in range(0, n):\n",
    "        t[i] = (y[i]+y[i+1])*d/2\n",
    "\n",
    "    tS = sum(t)\n",
    "\n",
    "    return tS\n",
    "\n",
    "\n",
    "tS = trapezoid(d, a, b)\n",
    "\n",
    "# SciPy\n",
    "\n",
    "sS = integrate.quad(f, a, b)\n",
    "\n",
    "print(\"リーマン:\", rS)\n",
    "print(\"台形\", tS)\n",
    "print(\"scipy:\", sS)"
   ]
  },
  {
   "cell_type": "markdown",
   "metadata": {},
   "source": [
    "## SymPyによる積分"
   ]
  },
  {
   "cell_type": "markdown",
   "metadata": {},
   "source": [
    "## （発展）モンテカルロ法"
   ]
  },
  {
   "cell_type": "markdown",
   "metadata": {},
   "source": [
    "参考：http://aidiary.hatenablog.com/entry/20140728/1406555863\n",
    "\n",
    "$$\n",
    "I = \\int_a^b f(x) dx\n",
    "$$\n",
    "において，aからbの値をとるN個の一様乱数を生成して，\n",
    "$$\n",
    "I_N = (b-a)\\frac{1}{N}\\sum f(x)\n",
    "$$\n",
    "を近似値とする。\n",
    "\n",
    "（精度が低いように見えるが，多重積分などの複雑な計算で威力を発揮する（らしい））"
   ]
  },
  {
   "cell_type": "code",
   "execution_count": 65,
   "metadata": {},
   "outputs": [
    {
     "name": "stdout",
     "output_type": "stream",
     "text": [
      "scipy: (3.1415926535897936, 3.4878684980086326e-14)\n",
      "モンテカルロ積分: 3.1392531578320084\n"
     ]
    }
   ],
   "source": [
    "from scipy.stats import uniform\n",
    "\n",
    "\n",
    "def f(x):\n",
    "    return 4/(1+x**2)\n",
    "\n",
    "\n",
    "a = 0\n",
    "b = 1\n",
    "N = 10**5\n",
    "\n",
    "\n",
    "# モンテカルロ積分\n",
    "\n",
    "\n",
    "def MC(N, a, b):\n",
    "    x = uniform(a, b-a).rvs(N)\n",
    "    mS = (b - a) * np.mean(f(x))\n",
    "    return mS\n",
    "\n",
    "\n",
    "mS = MC(N, a, b)\n",
    "\n",
    "# scipy\n",
    "sS = integrate.quad(f, a, b)\n",
    "\n",
    "\n",
    "print(\"scipy:\", sS)\n",
    "print(\"モンテカルロ積分:\", mS)"
   ]
  },
  {
   "cell_type": "markdown",
   "metadata": {},
   "source": [
    "# 確率分布"
   ]
  },
  {
   "cell_type": "code",
   "execution_count": null,
   "metadata": {},
   "outputs": [],
   "source": []
  }
 ],
 "metadata": {
  "kernelspec": {
   "display_name": "Python 3",
   "language": "python",
   "name": "python3"
  },
  "language_info": {
   "codemirror_mode": {
    "name": "ipython",
    "version": 3
   },
   "file_extension": ".py",
   "mimetype": "text/x-python",
   "name": "python",
   "nbconvert_exporter": "python",
   "pygments_lexer": "ipython3",
   "version": "3.6.6"
  },
  "toc": {
   "base_numbering": 1,
   "nav_menu": {},
   "number_sections": true,
   "sideBar": true,
   "skip_h1_title": false,
   "title_cell": "Table of Contents",
   "title_sidebar": "Contents",
   "toc_cell": false,
   "toc_position": {},
   "toc_section_display": true,
   "toc_window_display": false
  }
 },
 "nbformat": 4,
 "nbformat_minor": 2
}
